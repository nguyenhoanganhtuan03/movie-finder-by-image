{
 "cells": [
  {
   "cell_type": "code",
   "execution_count": 2,
   "id": "b2828409",
   "metadata": {},
   "outputs": [],
   "source": [
    "import matplotlib.pyplot as plt\n",
    "import os"
   ]
  },
  {
   "cell_type": "code",
   "execution_count": 3,
   "id": "e3828acf",
   "metadata": {},
   "outputs": [
    {
     "name": "stdout",
     "output_type": "stream",
     "text": [
      "✅ Đã lưu biểu đồ tại: train_frame_counts.jpg\n"
     ]
    }
   ],
   "source": [
    "def count_images_per_folder(root_dir, image_extensions=None):\n",
    "    if image_extensions is None:\n",
    "        image_extensions = ['.jpg']\n",
    "\n",
    "    folder_counts = {}\n",
    "    for subdir, dirs, files in os.walk(root_dir):\n",
    "\n",
    "        # folder_name = os.path.basename(subdir).lower()\n",
    "        # if folder_name == 'khac':\n",
    "        #     continue\n",
    "        \n",
    "        if subdir == root_dir:\n",
    "            continue  # bỏ qua thư mục gốc\n",
    "        count = sum(1 for file in files if any(file.lower().endswith(ext) for ext in image_extensions))\n",
    "        if count > 0:\n",
    "            folder_name = os.path.basename(subdir)\n",
    "            folder_counts[folder_name] = count\n",
    "\n",
    "    return folder_counts\n",
    "\n",
    "def plot_image_counts(folder_counts, output_path=None):\n",
    "    folders = list(folder_counts.keys())\n",
    "    counts = list(folder_counts.values())\n",
    "\n",
    "    # Sắp xếp theo số lượng giảm dần\n",
    "    sorted_data = sorted(zip(folders, counts), key=lambda x: x[1], reverse=True)\n",
    "    folders_sorted, counts_sorted = zip(*sorted_data)\n",
    "\n",
    "    plt.figure(figsize=(10, 12))\n",
    "    bars = plt.barh(folders_sorted, counts_sorted, color='skyblue')\n",
    "\n",
    "    plt.xlabel('Số lượng ảnh')\n",
    "    plt.ylabel('Tên thư mục')\n",
    "    plt.title('Số lượng frame trong tập Train')\n",
    "    plt.gca().invert_yaxis()  # Để mục nhiều nhất nằm trên cùng\n",
    "\n",
    "    # Hiển thị số ở đầu cột (cuối thanh)\n",
    "    for bar, count in zip(bars, counts_sorted):\n",
    "        plt.text(count,\n",
    "                 bar.get_y() + bar.get_height()/2,\n",
    "                 str(count),\n",
    "                 ha='left', va='center', fontsize=9)\n",
    "\n",
    "    plt.tight_layout()\n",
    "\n",
    "    # Nếu có đường dẫn output thì lưu thành ảnh JPG\n",
    "    if output_path:\n",
    "        dir_name = os.path.dirname(output_path)\n",
    "        if dir_name:  # Chỉ tạo nếu có thư mục cha\n",
    "            os.makedirs(dir_name, exist_ok=True)\n",
    "\n",
    "        plt.savefig(output_path, format='jpg', dpi=300)\n",
    "        print(f\"✅ Đã lưu biểu đồ tại: {output_path}\")\n",
    "\n",
    "    plt.close()  # Đóng figure để tránh chiếm bộ nhớ\n",
    "\n",
    "# ==== Chạy thử ====\n",
    "folder_train_path = 'E:\\\\Data\\\\Movie_Dataset\\\\Spectrogram_Dataset\\\\Train'\n",
    "counts = count_images_per_folder(folder_train_path)\n",
    "plot_image_counts(counts, output_path='train_frame_counts.jpg')"
   ]
  },
  {
   "cell_type": "code",
   "execution_count": 4,
   "id": "92b05e83",
   "metadata": {},
   "outputs": [
    {
     "name": "stdout",
     "output_type": "stream",
     "text": [
      "✅ Đã lưu biểu đồ tại: test_frame_counts.jpg\n"
     ]
    }
   ],
   "source": [
    "def plot_image_counts(folder_counts, output_path=None):\n",
    "    folders = list(folder_counts.keys())\n",
    "    counts = list(folder_counts.values())\n",
    "\n",
    "    # Sắp xếp theo số lượng giảm dần\n",
    "    sorted_data = sorted(zip(folders, counts), key=lambda x: x[1], reverse=True)\n",
    "    folders_sorted, counts_sorted = zip(*sorted_data)\n",
    "\n",
    "    plt.figure(figsize=(10, 12))\n",
    "    bars = plt.barh(folders_sorted, counts_sorted, color='skyblue')\n",
    "\n",
    "    plt.xlabel('Số lượng ảnh')\n",
    "    plt.ylabel('Tên thư mục')\n",
    "    plt.title('Số lượng frame trong tập Test')\n",
    "    plt.gca().invert_yaxis()  # Để mục nhiều nhất nằm trên cùng\n",
    "\n",
    "    # Hiển thị số ở đầu cột (cuối thanh)\n",
    "    for bar, count in zip(bars, counts_sorted):\n",
    "        plt.text(count,\n",
    "                 bar.get_y() + bar.get_height()/2,\n",
    "                 str(count),\n",
    "                 ha='left', va='center', fontsize=9)\n",
    "\n",
    "    plt.tight_layout()\n",
    "\n",
    "    # Nếu có đường dẫn output thì lưu thành ảnh JPG\n",
    "    if output_path:\n",
    "        dir_name = os.path.dirname(output_path)\n",
    "        if dir_name:  # Chỉ tạo nếu có thư mục cha\n",
    "            os.makedirs(dir_name, exist_ok=True)\n",
    "\n",
    "        plt.savefig(output_path, format='jpg', dpi=300)\n",
    "        print(f\"✅ Đã lưu biểu đồ tại: {output_path}\")\n",
    "\n",
    "    plt.close()  # Đóng figure để tránh chiếm bộ nhớ\n",
    "\n",
    "# ==== Chạy thử ====\n",
    "folder_train_path = 'E:\\\\Data\\\\Movie_Dataset\\\\Spectrogram_Dataset\\\\Test'\n",
    "counts = count_images_per_folder(folder_train_path)\n",
    "plot_image_counts(counts, output_path='test_frame_counts.jpg')"
   ]
  }
 ],
 "metadata": {
  "kernelspec": {
   "display_name": ".venv",
   "language": "python",
   "name": "python3"
  },
  "language_info": {
   "codemirror_mode": {
    "name": "ipython",
    "version": 3
   },
   "file_extension": ".py",
   "mimetype": "text/x-python",
   "name": "python",
   "nbconvert_exporter": "python",
   "pygments_lexer": "ipython3",
   "version": "3.10.11"
  }
 },
 "nbformat": 4,
 "nbformat_minor": 5
}
